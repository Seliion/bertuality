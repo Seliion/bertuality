{
 "cells": [
  {
   "cell_type": "markdown",
   "id": "f588af81",
   "metadata": {},
   "source": [
    "## BERTuality\n",
    " \n",
    "In this repository, we explore a way to check the topicality of textual data using the \"BERT\" language model and generate data corresponding to topicality. Our concept is called BERT-actuality (=BERTuality) and is a pipeline that is able to overcome the limitations of a pre-trained large language model by collecting correct data according to its topicality and predicting a correct value for a searched value.\n"
   ]
  },
  {
   "cell_type": "markdown",
   "id": "245f1b59",
   "metadata": {},
   "source": [
    "<b>Why is this important?</b> There are over 6.6 million English-language Wikipedia articles on the Internet. In the USA alone, over 5,000 new news articles are published every day. Assuming that not every source is constantly updated, it can be stated that a large amount of outdated information exists. In this context, timeliness is the property of information to be relevant to the present. Outdated information no longer corresponds to the current conditions of the real world because it has become obsolete due to decay over time. Thus, outdated information poses a danger because it is misinformation in our case. The use of misinformation can lead to misunderstanding, economic or reputational damage. Therefore, it is of great interest to both individuals and businesses to obtain and use only current information. We describe a best practice for how BERT keeps information current.\n",
    "\n"
   ]
  },
  {
   "cell_type": "markdown",
   "id": "74ded3cc",
   "metadata": {},
   "source": [
    "<b>How do we achieve it?</b> BERTuality generates a current value for the [MASK] token for a sentence of the form \"Prime Minister [MASK] is the leader of Japan\". In this case, the result is the word \"Kishida\" (as of February 2023). To predict the word for the [MASK] token, the language model BERT, which was previously sensitized to the current state, is used. In the first step, BERTuality analyzes the outdated information and systematically extracts up-to-date information from various data sources. In the second step, this information is split into individual sentences and transformed into an optimal form for BERT. Procedures are presented that allow BERT to be made aware of timeliness using these sentences. In the third step, BERT is used to generate a correct and up-to-date prediction."
   ]
  },
  {
   "cell_type": "markdown",
   "id": "8d0f47c1",
   "metadata": {},
   "source": [
    "## 1. Dependencies\n",
    "\n",
    "To keep this notebook readable and simple, we will keep most of the code out of this notebook and import all the necessary functions as we go along in the chapters we need. But for now, we'll import all the necessary dependencies:"
   ]
  },
  {
   "cell_type": "code",
   "execution_count": 1,
   "id": "f9c4bcf2",
   "metadata": {},
   "outputs": [],
   "source": [
    "from bertuality import BERTuality\n",
    "from bertuality import BERTuality_loader\n",
    "from bertuality import BERTuality_quickstart"
   ]
  },
  {
   "cell_type": "markdown",
   "id": "8bb01e4a",
   "metadata": {},
   "source": [
    "## 2. The Basics needed"
   ]
  },
  {
   "cell_type": "code",
   "execution_count": null,
   "id": "99fcda13",
   "metadata": {},
   "outputs": [],
   "source": []
  },
  {
   "cell_type": "code",
   "execution_count": null,
   "id": "b36ec97d",
   "metadata": {},
   "outputs": [],
   "source": []
  },
  {
   "cell_type": "markdown",
   "id": "e122c286",
   "metadata": {},
   "source": [
    "## 3. BERTuality"
   ]
  },
  {
   "cell_type": "markdown",
   "id": "caf5e2e1",
   "metadata": {},
   "source": [
    "In this chapter, we will go over the BERTuality pipeline and introduce its structure and the functionality of the individual modules. This is followed by a schematic overview of the process:"
   ]
  },
  {
   "cell_type": "markdown",
   "id": "5c4877d0",
   "metadata": {},
   "source": [
    "TODO - Import image of pipeline"
   ]
  },
  {
   "cell_type": "markdown",
   "id": "9908fbc5",
   "metadata": {},
   "source": [
    "<b>Description:</b> First, the masked sentence is passed to the pipeline to extract all relevant keywords from it. Based on the keywords, relevant data is searched in any data source. Then, the found input data passes through the textual data preparation and query module to filter out optimal input sentences. Based on these prepared input records, a suitable and up-to-date token for the [MASK] token for the masked record is predicted.\n"
   ]
  },
  {
   "cell_type": "markdown",
   "id": "9d4a8a2e",
   "metadata": {},
   "source": [
    "### 3.1 Keyword Extraction"
   ]
  },
  {
   "cell_type": "markdown",
   "id": "df776681",
   "metadata": {},
   "source": [
    "First, the keywords are extracted from the [MASK] sentence, which will be used in the next steps to search for the relevant information. For an optimal search it is of interest that the list of keywords contains only the most relevant words."
   ]
  },
  {
   "cell_type": "markdown",
   "id": "8a662ba8",
   "metadata": {},
   "source": [
    "### 3.2 Loading the data"
   ]
  },
  {
   "cell_type": "code",
   "execution_count": null,
   "id": "82049fb3",
   "metadata": {},
   "outputs": [],
   "source": []
  },
  {
   "cell_type": "markdown",
   "id": "90c02c2a",
   "metadata": {},
   "source": [
    "### 3.3 Preparing the data"
   ]
  },
  {
   "cell_type": "code",
   "execution_count": null,
   "id": "8dad73e7",
   "metadata": {},
   "outputs": [],
   "source": []
  },
  {
   "cell_type": "markdown",
   "id": "7e125aba",
   "metadata": {},
   "source": [
    "### 3.4 Finding optimal sentences"
   ]
  },
  {
   "cell_type": "code",
   "execution_count": null,
   "id": "7c200406",
   "metadata": {},
   "outputs": [],
   "source": []
  },
  {
   "cell_type": "markdown",
   "id": "f7cb357c",
   "metadata": {},
   "source": [
    "### 3.5 Predictions with BERTuality"
   ]
  },
  {
   "cell_type": "code",
   "execution_count": null,
   "id": "66192378",
   "metadata": {},
   "outputs": [],
   "source": []
  },
  {
   "cell_type": "markdown",
   "id": "c853a7e2",
   "metadata": {},
   "source": [
    "## 4. Results & Playground"
   ]
  },
  {
   "cell_type": "code",
   "execution_count": null,
   "id": "f3e44bd6",
   "metadata": {},
   "outputs": [],
   "source": []
  },
  {
   "cell_type": "code",
   "execution_count": 2,
   "id": "e5a6eb13",
   "metadata": {},
   "outputs": [
    {
     "data": {
      "text/plain": [
       "{'model': 'bertuality/model',\n",
       " 'tokenizer': 'bertuality/tokenizer',\n",
       " 'from_date': '2023-01-20',\n",
       " 'to_date': '2023-04-20',\n",
       " 'use_NewsAPI': True,\n",
       " 'use_guardian': False,\n",
       " 'use_wikipedia': True,\n",
       " 'subset_size': 2,\n",
       " 'sim_score': 0.3,\n",
       " 'focus_padding': 6,\n",
       " 'duplicates': False,\n",
       " 'extraction': True,\n",
       " 'similarity': True,\n",
       " 'focus': True,\n",
       " 'max_input': 30,\n",
       " 'threshold': 0.9,\n",
       " 'only_target_token': True}"
      ]
     },
     "execution_count": 2,
     "metadata": {},
     "output_type": "execute_result"
    }
   ],
   "source": [
    "BERTuality_quickstart.load_default_config()"
   ]
  },
  {
   "cell_type": "code",
   "execution_count": 3,
   "id": "790a3be7",
   "metadata": {},
   "outputs": [
    {
     "name": "stdout",
     "output_type": "stream",
     "text": [
      "\n",
      "Step 1: Load config --> Done\n",
      "Step 2: Load latest data --> Done\n",
      "Step 3: Prepare data --> Done\n",
      "Step 4: Start Prediction:\n",
      "\n",
      "Tim Cook is the current CEO of [MASK].\n",
      "\n",
      "    WordPiece Prediction:\n",
      "    Input Size: 30\n",
      "    Progress --> 3.33 %\n",
      "    Progress --> 6.67 %\n",
      "    Progress --> 10.0 %\n",
      "    Progress --> 13.33 %\n",
      "    Progress --> 16.67 %\n",
      "    Progress --> 20.0 %\n",
      "    Progress --> 23.33 %\n",
      "    Progress --> 26.67 %\n",
      "    Progress --> 30.0 %\n",
      "    Progress --> 33.33 %\n",
      "    Progress --> 36.67 %\n",
      "    Progress --> 40.0 %\n",
      "    Progress --> 43.33 %\n",
      "    Progress --> 46.67 %\n",
      "    Progress --> 50.0 %\n",
      "    Progress --> 53.33 %\n",
      "    Progress --> 56.67 %\n",
      "    Progress --> 60.0 %\n",
      "    Progress --> 63.33 %\n",
      "    Progress --> 66.67 %\n",
      "    Progress --> 70.0 %\n",
      "    Progress --> 73.33 %\n",
      "    Progress --> 76.67 %\n",
      "    Progress --> 80.0 %\n",
      "    Progress --> 83.33 %\n",
      "    Progress --> 86.67 %\n",
      "    Progress --> 90.0 %\n",
      "    Progress --> 93.33 %\n",
      "    Progress --> 96.67 %\n",
      "    Progress --> 100.0 %\n",
      "\n",
      "Tim Cook is the current CEO of Apple.\n"
     ]
    }
   ],
   "source": [
    "BERTuality_quickstart.bertuality(\"Tim Cook is the current CEO of [MASK].\")"
   ]
  },
  {
   "cell_type": "code",
   "execution_count": null,
   "id": "60ea92b3",
   "metadata": {},
   "outputs": [],
   "source": []
  }
 ],
 "metadata": {
  "kernelspec": {
   "display_name": "Python 3 (ipykernel)",
   "language": "python",
   "name": "python3"
  },
  "language_info": {
   "codemirror_mode": {
    "name": "ipython",
    "version": 3
   },
   "file_extension": ".py",
   "mimetype": "text/x-python",
   "name": "python",
   "nbconvert_exporter": "python",
   "pygments_lexer": "ipython3",
   "version": "3.8.15"
  }
 },
 "nbformat": 4,
 "nbformat_minor": 5
}
