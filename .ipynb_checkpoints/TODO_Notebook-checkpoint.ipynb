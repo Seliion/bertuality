{
 "cells": [
  {
   "cell_type": "markdown",
   "id": "f588af81",
   "metadata": {},
   "source": [
    "## BERTuality\n",
    "\n",
    "is a concept for checking the actuality of text data with the language model \"BERT\" and for generating data conforming to actuality."
   ]
  },
  {
   "cell_type": "markdown",
   "id": "a21f6ec6",
   "metadata": {},
   "source": [
    "## TODO\n",
    "\n",
    "This Jupyter notebook is still a work in progress and will be further developed in the next days."
   ]
  },
  {
   "cell_type": "code",
   "execution_count": null,
   "id": "58dc9da7",
   "metadata": {},
   "outputs": [],
   "source": []
  }
 ],
 "metadata": {
  "kernelspec": {
   "display_name": "Python 3 (ipykernel)",
   "language": "python",
   "name": "python3"
  },
  "language_info": {
   "codemirror_mode": {
    "name": "ipython",
    "version": 3
   },
   "file_extension": ".py",
   "mimetype": "text/x-python",
   "name": "python",
   "nbconvert_exporter": "python",
   "pygments_lexer": "ipython3",
   "version": "3.8.15"
  }
 },
 "nbformat": 4,
 "nbformat_minor": 5
}
